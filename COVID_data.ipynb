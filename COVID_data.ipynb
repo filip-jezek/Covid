{
 "cells": [
  {
   "cell_type": "code",
   "execution_count": 13,
   "metadata": {},
   "outputs": [],
   "source": [
    "import datetime;\n",
    "# data from graph published at https://onemocneni-aktualne.mzcr.cz/covid-19\n",
    "# <div id=\"js-cummulative-total-persons-data\" class=\"visually-hidden\" data-linechart=\"{\"key\":\"tests\",\"color\":\"#d31145\",\"values\":[\n",
    "data = [{\"x\":\"27.1.2020\",\"y\":0},{\"x\":\"28.1.2020\",\"y\":0},{\"x\":\"29.1.2020\",\"y\":0},{\"x\":\"30.1.2020\",\"y\":0},{\"x\":\"31.1.2020\",\"y\":0},{\"x\":\"1.2.2020\",\"y\":0},{\"x\":\"2.2.2020\",\"y\":0},{\"x\":\"3.2.2020\",\"y\":0},{\"x\":\"4.2.2020\",\"y\":0},{\"x\":\"5.2.2020\",\"y\":0},{\"x\":\"6.2.2020\",\"y\":0},{\"x\":\"7.2.2020\",\"y\":0},{\"x\":\"8.2.2020\",\"y\":0},{\"x\":\"9.2.2020\",\"y\":0},{\"x\":\"10.2.2020\",\"y\":0},{\"x\":\"11.2.2020\",\"y\":0},{\"x\":\"12.2.2020\",\"y\":0},{\"x\":\"13.2.2020\",\"y\":0},{\"x\":\"14.2.2020\",\"y\":0},{\"x\":\"15.2.2020\",\"y\":0},{\"x\":\"16.2.2020\",\"y\":0},{\"x\":\"17.2.2020\",\"y\":0},{\"x\":\"18.2.2020\",\"y\":0},{\"x\":\"19.2.2020\",\"y\":0},{\"x\":\"20.2.2020\",\"y\":0},{\"x\":\"21.2.2020\",\"y\":0},{\"x\":\"22.2.2020\",\"y\":0},{\"x\":\"23.2.2020\",\"y\":0},{\"x\":\"24.2.2020\",\"y\":0},{\"x\":\"25.2.2020\",\"y\":0},{\"x\":\"26.2.2020\",\"y\":0},{\"x\":\"27.2.2020\",\"y\":0},{\"x\":\"28.2.2020\",\"y\":0},{\"x\":\"29.2.2020\",\"y\":0},{\"x\":\"1.3.2020\",\"y\":3},{\"x\":\"2.3.2020\",\"y\":3},{\"x\":\"3.3.2020\",\"y\":5},{\"x\":\"4.3.2020\",\"y\":5},{\"x\":\"5.3.2020\",\"y\":8},{\"x\":\"6.3.2020\",\"y\":19},{\"x\":\"7.3.2020\",\"y\":26},{\"x\":\"8.3.2020\",\"y\":32},{\"x\":\"9.3.2020\",\"y\":38},{\"x\":\"10.3.2020\",\"y\":63},{\"x\":\"11.3.2020\",\"y\":94},{\"x\":\"12.3.2020\",\"y\":116},{\"x\":\"13.3.2020\",\"y\":141},{\"x\":\"14.3.2020\",\"y\":189},{\"x\":\"15.3.2020\",\"y\":298},{\"x\":\"16.3.2020\",\"y\":383},{\"x\":\"17.3.2020\",\"y\":450},{\"x\":\"18.3.2020\",\"y\":560},{\"x\":\"19.3.2020\",\"y\":765},{\"x\":\"20.3.2020\",\"y\":889},{\"x\":\"21.3.2020\",\"y\":1047}]\n",
    "start_date = '1.3.2020'\n"
   ]
  },
  {
   "cell_type": "code",
   "execution_count": 23,
   "metadata": {},
   "outputs": [
    {
     "name": "stdout",
     "output_type": "stream",
     "text": [
      "[3, 3, 5, 5, 8, 19, 26, 32, 38, 63, 94, 116, 141, 189, 298, 383, 450, 560, 765, 889, 1047]\n"
     ]
    }
   ],
   "source": [
    "counts = list()\n",
    "start_id = 0\n",
    "i = 0\n",
    "for point in data:\n",
    "    counts.append(point['y'])\n",
    "    if point['x'] == start_date:\n",
    "        start_id = i\n",
    "    i = i + 1\n",
    "               \n",
    "positive = counts[start_id:]\n",
    "print(positive)"
   ]
  },
  {
   "cell_type": "code",
   "execution_count": 35,
   "metadata": {},
   "outputs": [
    {
     "data": {
      "text/plain": [
       "'[0, 3; 1, 3; 2, 5; 3, 5; 4, 8; 5, 19; 6, 26; 7, 32; 8, 38; 9, 63; 10, 94; 11, 116; 12, 141; 13, 189; 14, 298; 15, 383; 16, 450; 17, 560; 18, 765; 19, 889; 20, 1047]'"
      ]
     },
     "execution_count": 35,
     "metadata": {},
     "output_type": "execute_result"
    }
   ],
   "source": [
    "# prepare the time-value matrix for Modelica timetable\n",
    "output = '['\n",
    "for i in range(len(positive)):\n",
    "    output = output + \"%i, %i; \" % (i, positive[i])\n",
    "    \n",
    "# get rid of the last semicolon\n",
    "output = output[:-2] + ']'\n",
    "\n",
    "output"
   ]
  }
 ],
 "metadata": {
  "kernelspec": {
   "display_name": "Python 3",
   "language": "python",
   "name": "python3"
  },
  "language_info": {
   "codemirror_mode": {
    "name": "ipython",
    "version": 3
   },
   "file_extension": ".py",
   "mimetype": "text/x-python",
   "name": "python",
   "nbconvert_exporter": "python",
   "pygments_lexer": "ipython3",
   "version": "3.7.4"
  }
 },
 "nbformat": 4,
 "nbformat_minor": 2
}
